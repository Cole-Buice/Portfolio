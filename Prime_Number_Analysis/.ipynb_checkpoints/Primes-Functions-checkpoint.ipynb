{
 "cells": [
  {
   "cell_type": "code",
   "execution_count": 1,
   "id": "affc43ab",
   "metadata": {
    "editable": true,
    "slideshow": {
     "slide_type": ""
    },
    "tags": []
   },
   "outputs": [],
   "source": [
    "# Import Packages\n",
    "from math import floor, ceil, sqrt\n",
    "import numpy as np\n",
    "import pandas as pd\n",
    "from scipy import stats as st\n",
    "import matplotlib.pyplot as plt\n",
    "from matplotlib.ticker import MultipleLocator\n",
    "import seaborn as sns\n",
    "import ipywidgets as widgets\n",
    "from ipywidgets import interact\n",
    "from IPython.display import display\n",
    "import warnings"
   ]
  },
  {
   "cell_type": "code",
   "execution_count": 3,
   "id": "0709d505",
   "metadata": {},
   "outputs": [],
   "source": [
    "# Store primes and prime factors. Used for determining if numbers are prime and generating a prime factor list with minimal calculation.\n",
    "primes = []\n",
    "prime_factor_dict = {}"
   ]
  },
  {
   "cell_type": "markdown",
   "id": "18a10c94-e9af-4596-9e86-9fb3d0b1d89f",
   "metadata": {},
   "source": [
    "The inspiration for this project started as an Ulam Spiral. Initially the goal was to calculate a numbers coordinates on a coordinate plane if it spiraled out from the center.\n",
    "Example: (0,0), (0,1), (1,1), (1,0), (1,-1), (0,-1), (-1,-1), (-1,0), (-1,1).\n",
    "9  2  3\n",
    "8  1  4\n",
    "7  6  5\n",
    "\n",
    "I wanted to do this by calculation using only the number itself and not counting to get the position.\n",
    "This turned out to be possible using triangular numbers.\n",
    "   o       1\n",
    "  o o      2\n",
    " o o o     3\n",
    "o o o o    4"
   ]
  },
  {
   "cell_type": "code",
   "execution_count": 17,
   "id": "4af512b1",
   "metadata": {},
   "outputs": [],
   "source": [
    "# First find what ring the number lies on. A ring is the number of units from the center. The number 1 lies on ring 0, 2-9 are on ring 1, 10-25 are ring 2 ect.\n",
    "def find_ring(n):\n",
    "    segment = (n - 1) / 8 # Rings are composed of multiples of 8. ring 0 has 1 position, ring 2 has 8, ring 3 has 16 ect. Segment shows how many segments have come before and the progress of the current segment as the decimal.\n",
    "    triangle_root = (sqrt(8 * segment + 1) - 1) / 2 # The segment can be used to calculate its triangular number which shows the number of rings below it as the integer and the progress through the current ring as the decimal.\n",
    "    ring = np.int64(ceil(triangle_root)) # Rounding up the triangular number will show which ring it belongs to and that ring is our first coordinate.\n",
    "    return ring"
   ]
  },
  {
   "cell_type": "code",
   "execution_count": 5,
   "id": "8732bf01",
   "metadata": {},
   "outputs": [],
   "source": [
    "# Find out which quarter of the ring the number lies in and its position within that quarter. This is used to determine if the coordinates are positive or negative and if they are on the x or y axis.\n",
    "def quarter_and_postition(n, ring):\n",
    "    quarter_length = ring * 2 # The length of a quarter can be found as twice the ring number.\n",
    "    ring_length = quarter_length * 4 # the full length of a ring\n",
    "    previous_ring_limit = (((ring * (ring - 1)) / 2) * 8) + 1 # This gives you the last number of the previous ring. Example: for ring 2 the previous ring(ring 1) ended on number 9\n",
    "    adjusted_number = n - previous_ring_limit - 1 # How many steps into the ring is this number. Example: 10 is the first number in ring 2 so its adjusted number is 0, 27 is the second number in ring 3 so its adjusted number is 1\n",
    "    ring_incriment = 1 / (ring * 8) # The decimal value for how much of the ring a number occupies\n",
    "    ring_progress = ((adjusted_number + 1) / ring_length) # How much of the ring has been filled out getting to this number.\n",
    "    ring_quarter = floor(adjusted_number / quarter_length) # Which quarter of the ring this number lies.\n",
    "    quarter_position = adjusted_number - (ring_quarter * quarter_length) # The position of the number in its quarter.\n",
    "    return ring_quarter, quarter_position, adjusted_number, ring_progress, ring_incriment"
   ]
  },
  {
   "cell_type": "code",
   "execution_count": 6,
   "id": "d23597cd",
   "metadata": {},
   "outputs": [],
   "source": [
    "# Using the data extracted from the numbers calculate their coordinates on the Ulam Spiral.\n",
    "def find_coordinates(ring, ring_quarter, quarter_position):\n",
    "    base_quarter = (((ring_quarter + 1) * 2) - 5) # Base quarter will be either 3, 1, -1, -3 which we will use to adjust coordinates.\n",
    "    mirror_modifier = base_quarter / abs(base_quarter) * -1 # Reduces base quarter to positive or negative one 1, 1 ,-1 ,-1\n",
    "    coordinate_modifier_a = ((ring_quarter) % 2) * mirror_modifier # This gives the x and y coordinates their positive and negative values 0, 1, 0, -1 \n",
    "    coordinate_modifier_b = ((ring_quarter + 1) % 2) * mirror_modifier # This also gives x and y their positive and negative values 1, 0, -1, 0\n",
    "    quarter_position_modifier = (abs(base_quarter) - 2) # Finally the positive and negative values must be adjusted one more time 1, -1, -1, 1\n",
    "    quarter_position_shift = ring - 1 # How much to adjust the coordinates non-ring value. Example: 2 is directly above 1 coordinates (0,1) so it is not adjusted, however the next ring, ring 2, starts with 10 which is one unit to the left so it is adjusted by 1.\n",
    "    adjusted_quarter_position = (quarter_position - quarter_position_shift) * quarter_position_modifier # Adjust the numbers position and then multiply it by the quarter position modifier to get the correct positive and negative values.\n",
    "    # For the following code a numbers coordinates either depend on its ring or on its adjusted quarter position.\n",
    "    # If the X value depends on the ring and the Y depends on the AQP then the X value for AQP will be zero and the Y value for ring will be zero. They can then be added together to get a final value for X and Y.\n",
    "    x1 = ring * coordinate_modifier_a # Check if ring gives coordinates for X\n",
    "    y1 = ring * coordinate_modifier_b # Check if ring gives coordinates for Y\n",
    "    x2 = adjusted_quarter_position * abs(coordinate_modifier_b) # Check if AQP gives coordinates for X\n",
    "    y2 = adjusted_quarter_position * abs(coordinate_modifier_a) # Check if AQP gives coordinates for Y\n",
    "    # Either the one or two value resulted in a non-zero and the other resulted in a zero.\n",
    "    # The values can safely be added together to get a final Result.\n",
    "    x = x1 + x2 # Final X coordinate\n",
    "    y = y1 + y2 # Final Y coordinate\n",
    "    return x, y"
   ]
  },
  {
   "cell_type": "code",
   "execution_count": 7,
   "id": "f057540d",
   "metadata": {},
   "outputs": [],
   "source": [
    "# This summs up the previous functions into a single function that returns the values obtained to be added to the dataframe.\n",
    "def get_coordinates(data):\n",
    "    n = data['number']\n",
    "    # Skip 1 as its values are already known and its math can disrupt the functions.\n",
    "    if n == 1:\n",
    "        x = 0\n",
    "        y = 0\n",
    "        ring = 0\n",
    "        ring_progress = 1\n",
    "        ring_incriment = 1\n",
    "    else:\n",
    "        # Run previous three functions and obtain the coordinate values.\n",
    "        ring = find_ring(n)\n",
    "        ring_quarter, quarter_position, adjusted_number, ring_progress, ring_incriment = quarter_and_postition(n, ring)\n",
    "        x, y = find_coordinates(ring, ring_quarter, quarter_position)\n",
    "    return x, y, ring, ring_incriment, ring_progress"
   ]
  },
  {
   "cell_type": "code",
   "execution_count": 22,
   "id": "94be5588",
   "metadata": {},
   "outputs": [],
   "source": [
    "# Using a modified version of the sieve of eratosthenes determine if a number is prime.\n",
    "# Also get digit values and prepare numbers for finding lowest prime factor.\n",
    "def check_prime(data):\n",
    "    n = np.int64(data['number']) # Get number\n",
    "    digits = [np.int64(digit) for digit in str(n)] # Split number into a list of its digits\n",
    "    digits_length = len(digits) # number of digits\n",
    "    first_digit = digits[0] # largest digit\n",
    "    last_digit = digits[-1] # Smallest digit\n",
    "    mean_digit = np.mean(digits) # Average digit\n",
    "    median_digit = np.median(digits) # Median digit\n",
    "    mode_digit, mode_count = st.mode(digits) # most common number in digits\n",
    "    prime = 1 # Number is prime binary value\n",
    "    lpf= 1 # lowest prime factor\n",
    "    determining_prime = 1 # The prime number that either divided evenly into the number in question confirming its composit or the largest prime needed to be tested to confirm the number is prime.\n",
    "\n",
    "    # Skip 1\n",
    "    if n == 1:\n",
    "        prime = 0\n",
    "    # Set the first 3 primes manually. 2 is tricky because its even and 5 is tricky because it ends in 5, 3 is added because it felt best to just do the first 3 manually rather than skipping 3.\n",
    "    elif n in [2, 3, 5]:\n",
    "        prime = 1\n",
    "        if n == 2:\n",
    "            determining_prime = 2\n",
    "        elif n == 3:\n",
    "            determining_prime = 2\n",
    "        else:\n",
    "            determining_prime = 3\n",
    "    # Primes must end in 1,3,7, or 9\n",
    "    elif last_digit not in [1, 3, 7, 9]:\n",
    "        prime = 0\n",
    "        if last_digit == 5:\n",
    "            lpf = 5\n",
    "            determining_prime = 5\n",
    "        else:\n",
    "            lpf = 2\n",
    "            determining_prime = 2\n",
    "    # Check remaining numbers using this modified sieve of eratosthenes\n",
    "    else:\n",
    "        for p in primes:\n",
    "            determining_prime = p\n",
    "            if p > n / p:\n",
    "                break\n",
    "            elif n % p == 0:\n",
    "                prime = 0\n",
    "                lpf = p\n",
    "                break\n",
    "    # if the number was prime add it to the prime list.\n",
    "    if bool(prime):\n",
    "        primes.append(n)\n",
    "    return prime, determining_prime, lpf, digits, first_digit, last_digit, digits_length, mean_digit, median_digit, mode_digit, mode_count"
   ]
  },
  {
   "cell_type": "code",
   "execution_count": 9,
   "id": "0670b85e",
   "metadata": {},
   "outputs": [],
   "source": [
    "# Determine prime factors. Use prime factors of other known numbers to fill out the factors more quickly.\n",
    "def factorize(n, lpf, prime_factors, df):\n",
    "    prime_factors.append(np.int64(lpf))\n",
    "    new_n = n / lpf\n",
    "    new_n_prime = df.loc[df['number'] == new_n, 'prime'].values[0]\n",
    "    new_n_lpf = df.loc[df['number'] == new_n, 'lpf'].values[0]\n",
    "    new_n_factors = prime_factor_dict[new_n]\n",
    "    if new_n_prime == 0:\n",
    "        if len(new_n_factors) > 0:\n",
    "            prime_factors = prime_factors + new_n_factors\n",
    "        else:\n",
    "            prime_factors = factorize(new_n, new_n_lpf, prime_factors)\n",
    "    else:\n",
    "        prime_factors.append(np.int64(new_n))\n",
    "    return prime_factors"
   ]
  },
  {
   "cell_type": "code",
   "execution_count": 10,
   "id": "7b985d21",
   "metadata": {},
   "outputs": [],
   "source": [
    "# Get remaining prime factors\n",
    "def get_prime_factors(data, df):\n",
    "    n = data['number']\n",
    "    lpf = data['lpf']\n",
    "    prime = data['prime']\n",
    "    gpf = n if prime == 1 or n == 1 else 0\n",
    "    prime_factors = []\n",
    "    if gpf == 0:\n",
    "        prime_factors = factorize(n, lpf, prime_factors, df)\n",
    "        gpf = prime_factors[-1]\n",
    "    else:\n",
    "        prime_factors = [lpf, gpf]\n",
    "    prime_factor_dict[n] = prime_factors\n",
    "    factor_count = len(prime_factors)\n",
    "    factor_mean = np.mean(prime_factors)\n",
    "    factor_median = np.median(prime_factors)\n",
    "    factor_mode, factor_mode_count = st.mode(prime_factors)\n",
    "    return gpf, prime_factors, factor_count, factor_mean, factor_median, factor_mode, factor_mode_count"
   ]
  },
  {
   "cell_type": "code",
   "execution_count": null,
   "id": "7a049e23",
   "metadata": {},
   "outputs": [],
   "source": []
  },
  {
   "cell_type": "code",
   "execution_count": null,
   "id": "6c385901",
   "metadata": {},
   "outputs": [],
   "source": []
  },
  {
   "cell_type": "code",
   "execution_count": null,
   "id": "baad7ac3",
   "metadata": {},
   "outputs": [],
   "source": []
  }
 ],
 "metadata": {
  "kernelspec": {
   "display_name": "Python 3 (ipykernel)",
   "language": "python",
   "name": "python3"
  },
  "language_info": {
   "codemirror_mode": {
    "name": "ipython",
    "version": 3
   },
   "file_extension": ".py",
   "mimetype": "text/x-python",
   "name": "python",
   "nbconvert_exporter": "python",
   "pygments_lexer": "ipython3",
   "version": "3.12.0"
  },
  "toc": {
   "base_numbering": 0
  }
 },
 "nbformat": 4,
 "nbformat_minor": 5
}
