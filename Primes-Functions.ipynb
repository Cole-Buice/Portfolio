{
 "cells": [
  {
   "cell_type": "code",
   "execution_count": 1,
   "id": "affc43ab",
   "metadata": {
    "editable": true,
    "slideshow": {
     "slide_type": ""
    },
    "tags": []
   },
   "outputs": [],
   "source": [
    "from math import floor, ceil, sqrt\n",
    "import numpy as np\n",
    "import pandas as pd\n",
    "from scipy import stats as st\n",
    "import matplotlib.pyplot as plt\n",
    "from matplotlib.ticker import MultipleLocator\n",
    "import seaborn as sns\n",
    "import ipywidgets as widgets\n",
    "from ipywidgets import interact\n",
    "from IPython.display import display\n",
    "import warnings"
   ]
  },
  {
   "cell_type": "code",
   "execution_count": 2,
   "id": "d9f6b49a",
   "metadata": {
    "editable": true,
    "slideshow": {
     "slide_type": ""
    },
    "tags": []
   },
   "outputs": [],
   "source": [
    "pd.options.display.max_columns = None"
   ]
  },
  {
   "cell_type": "code",
   "execution_count": 3,
   "id": "0709d505",
   "metadata": {},
   "outputs": [],
   "source": [
    "primes = []\n",
    "prime_factor_dict = {}"
   ]
  },
  {
   "cell_type": "code",
   "execution_count": 4,
   "id": "4af512b1",
   "metadata": {},
   "outputs": [],
   "source": [
    "def find_ring(n):\n",
    "    segment = (n - 1) / 8\n",
    "    triangle_root = (sqrt(8 * segment + 1) - 1) / 2\n",
    "    ring = np.int64(ceil(triangle_root))\n",
    "    return ring"
   ]
  },
  {
   "cell_type": "code",
   "execution_count": 5,
   "id": "8732bf01",
   "metadata": {},
   "outputs": [],
   "source": [
    "def quarter_and_postition(n, ring):\n",
    "    quarter_length = ring * 2\n",
    "    ring_length = quarter_length * 4\n",
    "    previous_ring_limit = (((ring * (ring - 1)) / 2) * 8) + 1\n",
    "    adjusted_number = n - previous_ring_limit - 1\n",
    "    ring_incriment = 1 / (ring * 8)\n",
    "    ring_progress = ((adjusted_number + 1) / ring_length)\n",
    "    ring_quarter = floor(adjusted_number / quarter_length)\n",
    "    quarter_position = adjusted_number - (ring_quarter * quarter_length)\n",
    "    return ring_quarter, quarter_position, adjusted_number, ring_progress, ring_incriment"
   ]
  },
  {
   "cell_type": "code",
   "execution_count": 6,
   "id": "d23597cd",
   "metadata": {},
   "outputs": [],
   "source": [
    "def find_coordinates(ring, ring_quarter, quarter_position):\n",
    "    base_quarter = (((ring_quarter + 1) * 2) - 5)\n",
    "    mirror_modifier = base_quarter / abs(base_quarter) * -1 # 1, 1 ,-1 ,-1\n",
    "    coordinate_modifier_a = ((ring_quarter) % 2) * mirror_modifier # 0, 1, 0, -1\n",
    "    coordinate_modifier_b = ((ring_quarter + 1) % 2) * mirror_modifier # 1, 0, -1, 0\n",
    "    quarter_position_modifier = (abs(base_quarter) - 2) # 1, -1, -1, 1\n",
    "    quarter_position_shift = ring - 1\n",
    "    adjusted_quarter_position = (quarter_position - quarter_position_shift) * quarter_position_modifier\n",
    "    x1 = ring * coordinate_modifier_a\n",
    "    y1 = ring * coordinate_modifier_b\n",
    "    x2 = adjusted_quarter_position * abs(coordinate_modifier_b)\n",
    "    y2 = adjusted_quarter_position * abs(coordinate_modifier_a)\n",
    "    x = x1 + x2\n",
    "    y = y1 + y2\n",
    "    return x, y"
   ]
  },
  {
   "cell_type": "code",
   "execution_count": 7,
   "id": "f057540d",
   "metadata": {},
   "outputs": [],
   "source": [
    "def get_coordinates(data):\n",
    "    n = data['number']\n",
    "    if n == 1:\n",
    "        x = 0\n",
    "        y = 0\n",
    "        ring = 0\n",
    "        ring_progress = 1\n",
    "        ring_incriment = 1\n",
    "    else:\n",
    "        ring = find_ring(n)\n",
    "        ring_quarter, quarter_position, adjusted_number, ring_progress, ring_incriment = quarter_and_postition(n, ring)\n",
    "        x, y = find_coordinates(ring, ring_quarter, quarter_position)\n",
    "    return x, y, ring, ring_incriment, ring_progress"
   ]
  },
  {
   "cell_type": "code",
   "execution_count": 8,
   "id": "94be5588",
   "metadata": {},
   "outputs": [],
   "source": [
    "def check_prime(data):\n",
    "    n = np.int64(data['number'])\n",
    "    digits = [np.int64(digit) for digit in str(n)]\n",
    "    digits_length = len(digits)\n",
    "    first_digit = digits[0]\n",
    "    last_digit = digits[-1]\n",
    "    mean_digit = np.mean(digits)\n",
    "    median_digit = np.median(digits)\n",
    "    mode_digit, mode_count = st.mode(digits)\n",
    "    prime = 1\n",
    "    lpf= 1\n",
    "    determining_prime = 1\n",
    "    if n == 1:\n",
    "        prime = 0\n",
    "    elif n in [2, 3, 5]:\n",
    "        prime = 1\n",
    "        if n == 2:\n",
    "            determining_prime = 2\n",
    "        elif n == 3:\n",
    "            determining_prime = 2\n",
    "        else:\n",
    "            determining_prime = 3\n",
    "    elif last_digit not in [1, 3, 7, 9]:\n",
    "        prime = 0\n",
    "        if last_digit == 5:\n",
    "            lpf = 5\n",
    "            determining_prime = 5\n",
    "        else:\n",
    "            lpf = 2\n",
    "            determining_prime = 2\n",
    "    else:\n",
    "        for p in primes:\n",
    "            determining_prime = p\n",
    "            if p > n / p:\n",
    "                break\n",
    "            elif n % p == 0:\n",
    "                prime = 0\n",
    "                lpf = p\n",
    "                break\n",
    "    if bool(prime):\n",
    "        primes.append(n)\n",
    "    return prime, determining_prime, lpf, digits, first_digit, last_digit, digits_length, mean_digit, median_digit, mode_digit, mode_count"
   ]
  },
  {
   "cell_type": "code",
   "execution_count": 9,
   "id": "0670b85e",
   "metadata": {},
   "outputs": [],
   "source": [
    "def factorize(n, lpf, prime_factors, df):\n",
    "    prime_factors.append(np.int64(lpf))\n",
    "    new_n = n / lpf\n",
    "    new_n_prime = df.loc[df['number'] == new_n, 'prime'].values[0]\n",
    "    new_n_lpf = df.loc[df['number'] == new_n, 'lpf'].values[0]\n",
    "    new_n_factors = prime_factor_dict[new_n]\n",
    "    if new_n_prime == 0:\n",
    "        if len(new_n_factors) > 0:\n",
    "            prime_factors = prime_factors + new_n_factors\n",
    "        else:\n",
    "            prime_factors = factorize(new_n, new_n_lpf, prime_factors)\n",
    "    else:\n",
    "        prime_factors.append(np.int64(new_n))\n",
    "    return prime_factors"
   ]
  },
  {
   "cell_type": "code",
   "execution_count": 10,
   "id": "7b985d21",
   "metadata": {},
   "outputs": [],
   "source": [
    "def get_prime_factors(data, df):\n",
    "    n = data['number']\n",
    "    lpf = data['lpf']\n",
    "    prime = data['prime']\n",
    "    gpf = n if prime == 1 or n == 1 else 0\n",
    "    prime_factors = []\n",
    "    if gpf == 0:\n",
    "        prime_factors = factorize(n, lpf, prime_factors, df)\n",
    "        gpf = prime_factors[-1]\n",
    "    else:\n",
    "        prime_factors = [lpf, gpf]\n",
    "    prime_factor_dict[n] = prime_factors\n",
    "    factor_count = len(prime_factors)\n",
    "    factor_mean = np.mean(prime_factors)\n",
    "    factor_median = np.median(prime_factors)\n",
    "    factor_mode, factor_mode_count = st.mode(prime_factors)\n",
    "    return gpf, prime_factors, factor_count, factor_mean, factor_median, factor_mode, factor_mode_count"
   ]
  },
  {
   "cell_type": "code",
   "execution_count": null,
   "id": "aec31fd4",
   "metadata": {},
   "outputs": [],
   "source": []
  },
  {
   "cell_type": "code",
   "execution_count": null,
   "id": "7a049e23",
   "metadata": {},
   "outputs": [],
   "source": []
  },
  {
   "cell_type": "code",
   "execution_count": null,
   "id": "6c385901",
   "metadata": {},
   "outputs": [],
   "source": []
  },
  {
   "cell_type": "code",
   "execution_count": null,
   "id": "baad7ac3",
   "metadata": {},
   "outputs": [],
   "source": []
  }
 ],
 "metadata": {
  "kernelspec": {
   "display_name": "Python 3",
   "language": "python",
   "name": "python3"
  },
  "language_info": {
   "codemirror_mode": {
    "name": "ipython",
    "version": 3
   },
   "file_extension": ".py",
   "mimetype": "text/x-python",
   "name": "python",
   "nbconvert_exporter": "python",
   "pygments_lexer": "ipython3",
   "version": "3.7.3"
  },
  "toc": {
   "base_numbering": 0
  }
 },
 "nbformat": 4,
 "nbformat_minor": 5
}
